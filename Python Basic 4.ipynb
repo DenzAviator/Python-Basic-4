{
 "cells": [
  {
   "cell_type": "markdown",
   "id": "938315b5",
   "metadata": {},
   "source": [
    "1. Why are functions advantageous to have in your programs?\n",
    "Functions are advantageous to have in programs for:-\n",
    "\n",
    "    a. Modularity: Functions allow you to break down programs into smaller, manegeable, and reusable pieces of code. each function can perform a specific task or solve a specific problem, making the overall program structure more organized and easier to understand.\n",
    "\n",
    "    b. Code Reusability: Once you define a function, you call it multiple times from different parts of your program. this eliminates the need to repeat the same block of code, reducing code duplication and promoting reusability. Functions can be shared across multiple programs or used in different sections of the same program, saving development time and effort.\n",
    "\n",
    "        \n",
    "    c. Abstraction: Functions provide a way to hide the implementation details of a particular task or algorithm. By encapsulating a set of operations within a function, you can create a higher-level abstraction that allows you to focus on the functionality rather than the implementation details\n",
    "\n",
    "    d. Readability and Maintainability: Breaking down a program into functions can be given meaningful names that describe their purpose, making it easier for other developers to comprehend the code.    \n",
    "\n",
    "    e. Testing and Debugging: Functions enable easier testing and debugging because they allow you to isolate specific portions of your program. By writting test cases for individual functions, you can verify their correctness independently.\n",
    "\n",
    "    f. Code Organization and Collaboration:Functions facilities collaaboration among developers working on the same project. By dividing the work into smaller functions, different team members can work on separate functions concurrently."
   ]
  },
  {
   "cell_type": "code",
   "execution_count": null,
   "id": "148afd26",
   "metadata": {},
   "outputs": [],
   "source": []
  },
  {
   "cell_type": "markdown",
   "id": "a6a76b10",
   "metadata": {},
   "source": [
    "2. When does the code in a function run: when it's specified or when it's called?\n",
    "    \n",
    "    The code in a function runs when the function is called, not when it is specified. Calling a function trggers the execution of the code inside it. Function execution follows a sequential order, executing the instructions within the function from top to bottom. After the function completes its execution, the program flow returns to the point where the function was called, and any returned values are provided to the caller."
   ]
  },
  {
   "cell_type": "code",
   "execution_count": null,
   "id": "10992dc8",
   "metadata": {},
   "outputs": [],
   "source": []
  },
  {
   "cell_type": "markdown",
   "id": "0c78d6a5",
   "metadata": {},
   "source": [
    "3. What statement creates a function?"
   ]
  },
  {
   "cell_type": "code",
   "execution_count": null,
   "id": "a4337406",
   "metadata": {},
   "outputs": [],
   "source": [
    "def function_name(parameter1, parameter2):\n",
    "    return result"
   ]
  },
  {
   "cell_type": "code",
   "execution_count": null,
   "id": "10751f04",
   "metadata": {},
   "outputs": [],
   "source": []
  },
  {
   "cell_type": "markdown",
   "id": "b2de0dd2",
   "metadata": {},
   "source": [
    "4. What is the difference between a function and a function call?\n",
    "\n",
    "In programming, a function and a function call are related concepts, but  they have different meanings.\n",
    "\n",
    "(a). Function:\n",
    "    \n",
    "    A function is a self_cointained block of code that performs a specific task. It is a reusable piece of code that can be invoked(called) from different parts of a program. Functions are used to breake down a program into smaller, manageable tasks, making the code more modular and organized. They can accept input parameters, perform calculations, and return results(optional). A function typically consists of a function signature (name and parameters).\n",
    "\n",
    "(b). Function call:\n",
    "    \n",
    "    A function call, also known as invoking or executing a function, is the act of using a function in a program. It is a statement that tells the program to execute a particular function at a specific point in the code. When a function is called, the program  jumps to the function's code block, executes the instructions inside it, and then returns to the point where the function call occurred."
   ]
  },
  {
   "cell_type": "markdown",
   "id": "cb79059f",
   "metadata": {},
   "source": [
    "5. How many global scopes are there in a Python program? How many local scopes?\n",
    "\n",
    "We have only one global scope in python program\n",
    "\n",
    "The number of local scopes in a python program depends on the number of function or method calls made and the nesting of those calls. Each function or method call crreates a new local scope, and if there are nested fuction calls within other function calls, addition local scopes will be created. It is difficult flow. The number of local scopes can vary greatly depending on the complexity and structure of the program, as well as the number of recursive function calls or nested function calls. In general, the number of local scopes can range from none(if there are no function or method calls) to several nested levels of local scopes, depending on the program's design and execusion flow."
   ]
  },
  {
   "cell_type": "code",
   "execution_count": null,
   "id": "07d76673",
   "metadata": {},
   "outputs": [],
   "source": []
  },
  {
   "cell_type": "markdown",
   "id": "bd91ebf6",
   "metadata": {},
   "source": [
    "6. What happens to variables in a local scope when the function call returns?\n",
    "\n",
    " When a fuction call returns, the local scope, including its variables, is destroyed. This means that any variables defined within the function's local scope cease to exist after the function call completes. When a function is invoked, a new local scope is created specifically for that function call. This local scope is separate from the global scope and any other local scopes. Variables defined within the function, including parameters and local variables, are stored within this local scope."
   ]
  },
  {
   "cell_type": "code",
   "execution_count": 14,
   "id": "a5a0cc0d",
   "metadata": {},
   "outputs": [
    {
     "name": "stdout",
     "output_type": "stream",
     "text": [
      "30\n"
     ]
    }
   ],
   "source": [
    "def example_function():\n",
    "    x = 10\n",
    "    y = 20\n",
    "    z = x + y\n",
    "    return z\n",
    "result = example_function()\n",
    "print(result)"
   ]
  },
  {
   "cell_type": "code",
   "execution_count": null,
   "id": "f8f2ce36",
   "metadata": {},
   "outputs": [],
   "source": []
  },
  {
   "cell_type": "markdown",
   "id": "8f19e6be",
   "metadata": {},
   "source": [
    "7. What is the concept of a return value? Is it possible to have a return value in an expression?\n",
    "\n",
    "In Python, a return value refers to the value that a function gives back or returns to the caller after its execution. It can be of any data type and is specified when declaring the function. Return values are useful because they allow functions to provide results that can be used in further computations or assignments. In an expression, you can use a function call and the return value of that function becomes part of the expression. For example, if you have a function called \"add_numbers\" that adds two numbers together."
   ]
  },
  {
   "cell_type": "code",
   "execution_count": 15,
   "id": "271c63c7",
   "metadata": {},
   "outputs": [
    {
     "name": "stdout",
     "output_type": "stream",
     "text": [
      "16\n"
     ]
    }
   ],
   "source": [
    "a = 3\n",
    "b = 5\n",
    "def add_numbers(a, b):\n",
    "    return a + b\n",
    "result = add_numbers(3, 5) * 2\n",
    "print(result)"
   ]
  },
  {
   "cell_type": "code",
   "execution_count": null,
   "id": "5017f81e",
   "metadata": {},
   "outputs": [],
   "source": []
  },
  {
   "cell_type": "markdown",
   "id": "dddbfeac",
   "metadata": {},
   "source": [
    "8. If a function does not have a return statement, what is the return value of a call to that function?\n",
    "\n",
    "if a function does not have a return statement, the return value of a call to that function is \"None\". In Python, \"None\" is a special keyword that represents the absence of a value. When a function reaches the end without encountering a return statement, it implicity returns \"None\" as the default return value."
   ]
  },
  {
   "cell_type": "code",
   "execution_count": 16,
   "id": "d16356dc",
   "metadata": {},
   "outputs": [
    {
     "name": "stdout",
     "output_type": "stream",
     "text": [
      "Hello, Dennis!\n",
      "None\n"
     ]
    }
   ],
   "source": [
    "def greet(name):\n",
    "    print(\"Hello, \" + name + \"!\")\n",
    "    \n",
    "result = greet(\"Dennis\")\n",
    "print(result)"
   ]
  },
  {
   "cell_type": "markdown",
   "id": "13799ea9",
   "metadata": {},
   "source": [
    "In the example above, the \"greet\" function does not have a return statement. When we call \"greet('Dennis')\", it prints the greeting but does not explicity return any value. Therefore, the variable \"result\" assigned the value of the function call is \"None\""
   ]
  },
  {
   "cell_type": "code",
   "execution_count": null,
   "id": "dcea3edf",
   "metadata": {},
   "outputs": [],
   "source": []
  },
  {
   "cell_type": "markdown",
   "id": "013828e9",
   "metadata": {},
   "source": [
    "9. How do you make a function variable refer to the global variable?\n",
    "\n",
    "To make a function variable refer to the global variable in Python, you can use the \"global\" keyword to explicitly declare that you want to use the global variable within the function's scope."
   ]
  },
  {
   "cell_type": "code",
   "execution_count": 17,
   "id": "4426d40d",
   "metadata": {},
   "outputs": [
    {
     "name": "stdout",
     "output_type": "stream",
     "text": [
      "10\n"
     ]
    }
   ],
   "source": [
    "global_var = 10\n",
    "\n",
    "def my_function():\n",
    "    global global_var\n",
    "    print(global_var)\n",
    "    \n",
    "my_function()"
   ]
  },
  {
   "cell_type": "markdown",
   "id": "e2db8a79",
   "metadata": {},
   "source": [
    "In the example above the \"global\" keyword is used within the function 'my_function()' to indicate that the 'global_var' variable being referred to is the global variable defined outside the function. When you execute \"my_function()\", it will access  and print the value of the global variable 'global_var'."
   ]
  },
  {
   "cell_type": "code",
   "execution_count": null,
   "id": "4ac174cf",
   "metadata": {},
   "outputs": [],
   "source": []
  },
  {
   "cell_type": "markdown",
   "id": "70b49845",
   "metadata": {},
   "source": [
    "10. What is the data type of None?\n",
    "\n",
    "In Python, 'None' is a special constant that represents the absence of a value or the lack of a return value. It is often used to indicate that a variable or expression does not have a meaningful value. 'None' is of the data type 'NoneType', which is a built_in type in python. It is the only value of this type, and you can use the 'type()' function to check its type, like this:"
   ]
  },
  {
   "cell_type": "code",
   "execution_count": 18,
   "id": "6ff2531c",
   "metadata": {},
   "outputs": [
    {
     "data": {
      "text/plain": [
       "NoneType"
      ]
     },
     "execution_count": 18,
     "metadata": {},
     "output_type": "execute_result"
    }
   ],
   "source": [
    "type(None)"
   ]
  },
  {
   "cell_type": "markdown",
   "id": "2b27fcb6",
   "metadata": {},
   "source": [
    "Note that 'NoneType' is a singleton type, meaning there is only one instance of it in the entire program."
   ]
  },
  {
   "cell_type": "code",
   "execution_count": null,
   "id": "4e2acf6b",
   "metadata": {},
   "outputs": [],
   "source": []
  },
  {
   "cell_type": "markdown",
   "id": "9ec6e6a8",
   "metadata": {},
   "source": [
    "11. What does the sentence import areallyourpetsnamederic do?\n",
    "\n",
    "The sentence \"import areallyourpetsnamederic\" is not a valid Python syntax and would result in a syntax error. In python, the 'import' keyword is used to import modules or libraries into a program, allowing you to access their functions, classes, or variables. However, \"import areallyourpetsnamederic\" is not a recognized module or library in the Python ecosystem.If you meant to write a hypothetical Python code snippet or provide more context, please let me know, and I'II be happy to assist you further."
   ]
  },
  {
   "cell_type": "code",
   "execution_count": null,
   "id": "6a0928f0",
   "metadata": {},
   "outputs": [],
   "source": []
  },
  {
   "cell_type": "markdown",
   "id": "2f2d9145",
   "metadata": {},
   "source": [
    "12. If you had a bacon() feature in a spam module, what would you call it after importing spam?\n",
    "\n",
    "If you had a bacon() feature in a spam module, after importing the spam module, you would call the bacon() function using the module name as a prefix. Assuming the spam module has been imported as \"spam\"you would call the bacon() function as follows:"
   ]
  },
  {
   "cell_type": "markdown",
   "id": "682e8ff0",
   "metadata": {},
   "source": [
    "import spam\n",
    "\n",
    "spam.bacon()\n",
    "\n",
    "By Using the module name as a prefix, you can access the bacon() function within the spam module and execute it."
   ]
  },
  {
   "cell_type": "code",
   "execution_count": null,
   "id": "5b917f0a",
   "metadata": {},
   "outputs": [],
   "source": []
  },
  {
   "cell_type": "markdown",
   "id": "ef664111",
   "metadata": {},
   "source": [
    "13. What can you do to save a programme from crashing if it encounters an error?\n",
    "\n",
    "To save a program from crashing when it encounters an error, you can take several steps:\n",
    "    \n",
    "    a. Error handling: Implement proper error handling techniques in your code. Use try-catch blocks (exception handling) to cathc and handle exceptions gracefully.\n",
    "    \n",
    "    b. Logging: Implement a logging mechanism in your program. Log relevant information about errors,exceptions, and program state to a log file or console.\n",
    "    \n",
    "    c. Input validation: Validate user inputs and data to ensure they meet the expected format and constraints. Validate data types, ranges, and any other requirements before processing them.\n",
    "        \n",
    "    d. Defensive programming: Write defensive code by adding checks and safegurads at critical points in your program. Validate assumptions, check for null or empty values, and perform necessary sanity checks before executing critical operationss.\n",
    "        \n",
    "    e. Graceful degradation: Implement techniques to gracefully handle errors and recover from them for eample, if the program relies on external resources(such as a database or web service), handle connection failures or timeouts gracefully and provide appropriate feedback to the user instead of crashing."
   ]
  },
  {
   "cell_type": "code",
   "execution_count": null,
   "id": "e4d87e95",
   "metadata": {},
   "outputs": [],
   "source": []
  },
  {
   "cell_type": "markdown",
   "id": "971a05cf",
   "metadata": {},
   "source": [
    "14. What is the purpose of the try clause? What is the purpose of the except clause?\n",
    "\n",
    "In programming, specifically in languages like Python, the \"try\" and except clauses are used for hamdling exceptions, which are unexpected or errorneous situations that can occur during the execution of a program.\n",
    "\n",
    "--The purpose of the try clause is to enclouse a block of code that may potentially raise an exception. By placing the code inside the \"try\" block, you're essentially telling the program to attempt the execution of that code normally. If an exception occurs within the \"try\" block, the program will immediately jump to the corresponding \"except\" block(if it exists) instead of terminating the program abruptly.\n",
    "\n",
    "--The The purpose of the \"except\" clause is to define how to handle exceptions that are raised within the associated \"try\" block. When an exception occurs, the program looks for an appropriate \"except\" block that matches the type of the exception. If a matching \"except\" block is found, the code within that block is executed to handle the exception. It provides an opportunity to catch and deal with specific types of exceptions in a controlled manner."
   ]
  },
  {
   "cell_type": "code",
   "execution_count": null,
   "id": "1da09934",
   "metadata": {},
   "outputs": [],
   "source": []
  }
 ],
 "metadata": {
  "kernelspec": {
   "display_name": "Python 3 (ipykernel)",
   "language": "python",
   "name": "python3"
  },
  "language_info": {
   "codemirror_mode": {
    "name": "ipython",
    "version": 3
   },
   "file_extension": ".py",
   "mimetype": "text/x-python",
   "name": "python",
   "nbconvert_exporter": "python",
   "pygments_lexer": "ipython3",
   "version": "3.10.9"
  }
 },
 "nbformat": 4,
 "nbformat_minor": 5
}
